{
 "cells": [
  {
   "cell_type": "code",
   "execution_count": 10,
   "metadata": {},
   "outputs": [],
   "source": [
    "from PIL import Image\n",
    "import numpy as np\n",
    "import os\n",
    "import glob"
   ]
  },
  {
   "cell_type": "code",
   "execution_count": 15,
   "metadata": {},
   "outputs": [],
   "source": [
    "# need to chage directory for new\n",
    "filelist = glob.glob(os.path.join('images2/w','*.png'))\n",
    "images = np.array([np.array(Image.open(fname)) for fname in filelist])"
   ]
  },
  {
   "cell_type": "code",
   "execution_count": 16,
   "metadata": {},
   "outputs": [],
   "source": [
    "#need to change directory and image name for new\n",
    "for i in range(len(images)):\n",
    "    img = Image.fromarray(images[i], 'RGB').transpose(Image.FLIP_LEFT_RIGHT)\n",
    "    img.save('images2/w/i'+str(i)+'.png','PNG')\n"
   ]
  },
  {
   "cell_type": "code",
   "execution_count": 17,
   "metadata": {},
   "outputs": [],
   "source": [
    "filelist = glob.glob(os.path.join('images2/a','*.png'))\n",
    "images = np.array([np.array(Image.open(fname)) for fname in filelist])\n",
    "filelist2 = glob.glob(os.path.join('images2/d','*.png'))\n",
    "images2 = np.array([np.array(Image.open(fname)) for fname in filelist2])"
   ]
  },
  {
   "cell_type": "code",
   "execution_count": 18,
   "metadata": {},
   "outputs": [],
   "source": [
    "for i in range(len(images)):\n",
    "    img = Image.fromarray(images[i], 'RGB').transpose(Image.FLIP_LEFT_RIGHT)\n",
    "    img.save('images2/d/i'+str(i)+'.png','PNG')\n",
    "    \n",
    "for i in range(len(images2)):\n",
    "    img = Image.fromarray(images2[i], 'RGB').transpose(Image.FLIP_LEFT_RIGHT)\n",
    "    img.save('images2/a/i'+str(i)+'.png','PNG')"
   ]
  },
  {
   "cell_type": "code",
   "execution_count": null,
   "metadata": {},
   "outputs": [],
   "source": []
  }
 ],
 "metadata": {
  "kernelspec": {
   "display_name": "Python 3",
   "language": "python",
   "name": "python3"
  },
  "language_info": {
   "codemirror_mode": {
    "name": "ipython",
    "version": 3
   },
   "file_extension": ".py",
   "mimetype": "text/x-python",
   "name": "python",
   "nbconvert_exporter": "python",
   "pygments_lexer": "ipython3",
   "version": "3.7.1"
  }
 },
 "nbformat": 4,
 "nbformat_minor": 2
}
